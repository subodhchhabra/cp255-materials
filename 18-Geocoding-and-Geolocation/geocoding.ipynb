{
 "cells": [
  {
   "cell_type": "markdown",
   "metadata": {},
   "source": [
    "# Geocoding with Python\n",
    "\n",
    "Agenda:\n",
    "- Geocoding addresses to latitude/longitude\n",
    "- Exploring locations with the Google Places API\n",
    "- Reverse geocoding latitude/longitude to an address\n",
    "- Reverse geocoding latitude/longitude to block FIPS code\n",
    "\n",
    "**You'll need a Google API key to use the Google Maps Geocoding API and the Google Places API Web Service:**\n",
    "1. Go to https://console.developers.google.com/project and sign in\n",
    "1. Create a new (empty) project called cp255, then click Enable APIs\n",
    "1. On the screen with all the APIs listed:\n",
    "  1. click \"Google Maps Geocoding API\" under Google Maps APIs, then click the Enable API button\n",
    "  1. click \"Google Places API Web Service\" under Google Maps APIs, then click the Enable API button\n",
    "1. Go to Credentials (on the left) and click the Add Credentials button, choose API Key, then choose Browser Key\n",
    "1. Give it a name like cp255-key, hit create, then copy and save your API key when it is displayed"
   ]
  },
  {
   "cell_type": "code",
   "execution_count": 1,
   "metadata": {
    "collapsed": true
   },
   "outputs": [],
   "source": [
    "import pandas as pd, json, requests, time\n",
    "from geopy.geocoders import GoogleV3"
   ]
  },
  {
   "cell_type": "code",
   "execution_count": 2,
   "metadata": {
    "collapsed": false
   },
   "outputs": [],
   "source": [
    "# set your google api key here\n",
    "api_key = ''\n",
    "\n",
    "# set the pause duration\n",
    "pause = 0.1"
   ]
  },
  {
   "cell_type": "markdown",
   "metadata": {},
   "source": [
    "## Part 1: Geocoding addresses to lat-long\n",
    "\n",
    "We will use the Google Maps geocoding API. You don't need an API key for this.\n",
    "- Documentation: https://developers.google.com/maps/documentation/geocoding/intro\n",
    "- Example request: http://maps.googleapis.com/maps/api/geocode/json?address=350+5th+Ave,+New+York,+NY+10118&sensor=false"
   ]
  },
  {
   "cell_type": "code",
   "execution_count": 3,
   "metadata": {
    "collapsed": false
   },
   "outputs": [
    {
     "data": {
      "text/html": [
       "<div>\n",
       "<table border=\"1\" class=\"dataframe\">\n",
       "  <thead>\n",
       "    <tr style=\"text-align: right;\">\n",
       "      <th></th>\n",
       "      <th>address</th>\n",
       "    </tr>\n",
       "  </thead>\n",
       "  <tbody>\n",
       "    <tr>\n",
       "      <th>0</th>\n",
       "      <td>350 5th Ave, New York, NY 10118</td>\n",
       "    </tr>\n",
       "    <tr>\n",
       "      <th>1</th>\n",
       "      <td>100 Larkin St, San Francisco, CA 94102</td>\n",
       "    </tr>\n",
       "    <tr>\n",
       "      <th>2</th>\n",
       "      <td>Wurster Hall, Berkeley, CA</td>\n",
       "    </tr>\n",
       "  </tbody>\n",
       "</table>\n",
       "</div>"
      ],
      "text/plain": [
       "                                  address\n",
       "0         350 5th Ave, New York, NY 10118\n",
       "1  100 Larkin St, San Francisco, CA 94102\n",
       "2              Wurster Hall, Berkeley, CA"
      ]
     },
     "execution_count": 3,
     "metadata": {},
     "output_type": "execute_result"
    }
   ],
   "source": [
    "locations = pd.DataFrame()\n",
    "locations['address'] = ['350 5th Ave, New York, NY 10118',\n",
    "                        '100 Larkin St, San Francisco, CA 94102',\n",
    "                        'Wurster Hall, Berkeley, CA']\n",
    "locations"
   ]
  },
  {
   "cell_type": "code",
   "execution_count": 4,
   "metadata": {
    "collapsed": false
   },
   "outputs": [],
   "source": [
    "# function that accepts an address string, sends it to the Google API, and returns the lat-long API result\n",
    "def geocode(address):\n",
    "    time.sleep(pause) #pause for some duration before each request, to not hammer their server\n",
    "    url = 'http://maps.googleapis.com/maps/api/geocode/json?address={}&sensor=false' #api url with placeholders\n",
    "    request = url.format(address) #fill in the placeholder with a variable\n",
    "    response = requests.get(request) #send the request to the server and get the response\n",
    "    data = json.loads(response.text) #convert the response json string into a dict\n",
    "    \n",
    "    if len(data['results']) > 0: #if google was able to geolocate our address, extract lat-long from result\n",
    "        latitude = data['results'][0]['geometry']['location']['lat']\n",
    "        longitude = data['results'][0]['geometry']['location']['lng']\n",
    "        return '{},{}'.format(latitude, longitude) #return lat-long as a string in the format google likes"
   ]
  },
  {
   "cell_type": "code",
   "execution_count": 5,
   "metadata": {
    "collapsed": false
   },
   "outputs": [
    {
     "data": {
      "text/html": [
       "<div>\n",
       "<table border=\"1\" class=\"dataframe\">\n",
       "  <thead>\n",
       "    <tr style=\"text-align: right;\">\n",
       "      <th></th>\n",
       "      <th>address</th>\n",
       "      <th>latlng</th>\n",
       "    </tr>\n",
       "  </thead>\n",
       "  <tbody>\n",
       "    <tr>\n",
       "      <th>0</th>\n",
       "      <td>350 5th Ave, New York, NY 10118</td>\n",
       "      <td>40.748384,-73.9854792</td>\n",
       "    </tr>\n",
       "    <tr>\n",
       "      <th>1</th>\n",
       "      <td>100 Larkin St, San Francisco, CA 94102</td>\n",
       "      <td>37.779159,-122.415808</td>\n",
       "    </tr>\n",
       "    <tr>\n",
       "      <th>2</th>\n",
       "      <td>Wurster Hall, Berkeley, CA</td>\n",
       "      <td>37.8707352,-122.2548935</td>\n",
       "    </tr>\n",
       "  </tbody>\n",
       "</table>\n",
       "</div>"
      ],
      "text/plain": [
       "                                  address                   latlng\n",
       "0         350 5th Ave, New York, NY 10118    40.748384,-73.9854792\n",
       "1  100 Larkin St, San Francisco, CA 94102    37.779159,-122.415808\n",
       "2              Wurster Hall, Berkeley, CA  37.8707352,-122.2548935"
      ]
     },
     "execution_count": 5,
     "metadata": {},
     "output_type": "execute_result"
    }
   ],
   "source": [
    "# for each value in the address column, geocode it\n",
    "locations['latlng'] = locations['address'].map(lambda x: geocode(x))\n",
    "locations"
   ]
  },
  {
   "cell_type": "code",
   "execution_count": 6,
   "metadata": {
    "collapsed": false
   },
   "outputs": [
    {
     "data": {
      "text/html": [
       "<div>\n",
       "<table border=\"1\" class=\"dataframe\">\n",
       "  <thead>\n",
       "    <tr style=\"text-align: right;\">\n",
       "      <th></th>\n",
       "      <th>address</th>\n",
       "      <th>latlng</th>\n",
       "      <th>latitude</th>\n",
       "      <th>longitude</th>\n",
       "    </tr>\n",
       "  </thead>\n",
       "  <tbody>\n",
       "    <tr>\n",
       "      <th>0</th>\n",
       "      <td>350 5th Ave, New York, NY 10118</td>\n",
       "      <td>40.748384,-73.9854792</td>\n",
       "      <td>40.748384</td>\n",
       "      <td>-73.9854792</td>\n",
       "    </tr>\n",
       "    <tr>\n",
       "      <th>1</th>\n",
       "      <td>100 Larkin St, San Francisco, CA 94102</td>\n",
       "      <td>37.779159,-122.415808</td>\n",
       "      <td>37.779159</td>\n",
       "      <td>-122.415808</td>\n",
       "    </tr>\n",
       "    <tr>\n",
       "      <th>2</th>\n",
       "      <td>Wurster Hall, Berkeley, CA</td>\n",
       "      <td>37.8707352,-122.2548935</td>\n",
       "      <td>37.8707352</td>\n",
       "      <td>-122.2548935</td>\n",
       "    </tr>\n",
       "  </tbody>\n",
       "</table>\n",
       "</div>"
      ],
      "text/plain": [
       "                                  address                   latlng  \\\n",
       "0         350 5th Ave, New York, NY 10118    40.748384,-73.9854792   \n",
       "1  100 Larkin St, San Francisco, CA 94102    37.779159,-122.415808   \n",
       "2              Wurster Hall, Berkeley, CA  37.8707352,-122.2548935   \n",
       "\n",
       "     latitude     longitude  \n",
       "0   40.748384   -73.9854792  \n",
       "1   37.779159   -122.415808  \n",
       "2  37.8707352  -122.2548935  "
      ]
     },
     "execution_count": 6,
     "metadata": {},
     "output_type": "execute_result"
    }
   ],
   "source": [
    "# parse the result into separate lat and lon columns for easy mapping\n",
    "locations['latitude'] = locations['latlng'].map(lambda x: x.split(',')[0])\n",
    "locations['longitude'] = locations['latlng'].map(lambda x: x.split(',')[1])\n",
    "locations"
   ]
  },
  {
   "cell_type": "markdown",
   "metadata": {},
   "source": [
    "## Part 2: Google Places API\n",
    "\n",
    "We will use Google's Places API to look up places in the vicinity of some location. You need an API key for this.\n",
    "- Documentation: https://developers.google.com/places/\n",
    "- Example request: https://maps.googleapis.com/maps/api/place/search/json?keyword=coffee&location=37.8683811,-122.2589063&radius=1000&sensor=false&key=YOUR-KEY-HERE"
   ]
  },
  {
   "cell_type": "code",
   "execution_count": 7,
   "metadata": {
    "collapsed": false
   },
   "outputs": [
    {
     "name": "stdout",
     "output_type": "stream",
     "text": [
      "37.8707352,-122.2548935\n"
     ]
    }
   ],
   "source": [
    "# google places api url, with placeholders\n",
    "url = 'https://maps.googleapis.com/maps/api/place/search/json?keyword={}&location={}&radius={}&key={}&sensor=false'\n",
    "\n",
    "# what keyword to search for\n",
    "keyword = 'restaurant'\n",
    "\n",
    "# define the radius (in meters) for the search\n",
    "radius = 1000\n",
    "\n",
    "# define the location coordinates (of wurster hall)\n",
    "location = locations.loc[2, 'latlng']\n",
    "print location"
   ]
  },
  {
   "cell_type": "code",
   "execution_count": 8,
   "metadata": {
    "collapsed": true
   },
   "outputs": [],
   "source": [
    "# add our variables into the url, submit the request to the api, and load the response\n",
    "request = url.format(keyword, location, radius, api_key)\n",
    "response = requests.get(request)\n",
    "data = json.loads(response.text)"
   ]
  },
  {
   "cell_type": "code",
   "execution_count": 9,
   "metadata": {
    "collapsed": false
   },
   "outputs": [
    {
     "data": {
      "text/html": [
       "<div>\n",
       "<table border=\"1\" class=\"dataframe\">\n",
       "  <thead>\n",
       "    <tr style=\"text-align: right;\">\n",
       "      <th></th>\n",
       "      <th>latitude</th>\n",
       "      <th>longitude</th>\n",
       "      <th>name</th>\n",
       "      <th>rating</th>\n",
       "      <th>vicinity</th>\n",
       "    </tr>\n",
       "  </thead>\n",
       "  <tbody>\n",
       "    <tr>\n",
       "      <th>14</th>\n",
       "      <td>37.868755</td>\n",
       "      <td>-122.266882</td>\n",
       "      <td>Razan's Organic Kitchen</td>\n",
       "      <td>4.5</td>\n",
       "      <td>2119 Kittredge Street, Berkeley</td>\n",
       "    </tr>\n",
       "    <tr>\n",
       "      <th>2</th>\n",
       "      <td>37.870291</td>\n",
       "      <td>-122.267111</td>\n",
       "      <td>Ippuku</td>\n",
       "      <td>4.5</td>\n",
       "      <td>2130 Center Street, Berkeley</td>\n",
       "    </tr>\n",
       "    <tr>\n",
       "      <th>13</th>\n",
       "      <td>37.867668</td>\n",
       "      <td>-122.266156</td>\n",
       "      <td>Great China</td>\n",
       "      <td>4.5</td>\n",
       "      <td>2190 Bancroft Way, Berkeley</td>\n",
       "    </tr>\n",
       "    <tr>\n",
       "      <th>16</th>\n",
       "      <td>37.863690</td>\n",
       "      <td>-122.258984</td>\n",
       "      <td>Kiraku</td>\n",
       "      <td>4.4</td>\n",
       "      <td>2566 Telegraph Avenue, Berkeley</td>\n",
       "    </tr>\n",
       "    <tr>\n",
       "      <th>12</th>\n",
       "      <td>37.871683</td>\n",
       "      <td>-122.267481</td>\n",
       "      <td>Mandarin Garden Restaurant</td>\n",
       "      <td>4.4</td>\n",
       "      <td>2025 Shattuck Avenue, Berkeley</td>\n",
       "    </tr>\n",
       "  </tbody>\n",
       "</table>\n",
       "</div>"
      ],
      "text/plain": [
       "     latitude   longitude                        name  rating  \\\n",
       "14  37.868755 -122.266882     Razan's Organic Kitchen     4.5   \n",
       "2   37.870291 -122.267111                      Ippuku     4.5   \n",
       "13  37.867668 -122.266156                 Great China     4.5   \n",
       "16  37.863690 -122.258984                      Kiraku     4.4   \n",
       "12  37.871683 -122.267481  Mandarin Garden Restaurant     4.4   \n",
       "\n",
       "                           vicinity  \n",
       "14  2119 Kittredge Street, Berkeley  \n",
       "2      2130 Center Street, Berkeley  \n",
       "13      2190 Bancroft Way, Berkeley  \n",
       "16  2566 Telegraph Avenue, Berkeley  \n",
       "12   2025 Shattuck Avenue, Berkeley  "
      ]
     },
     "execution_count": 9,
     "metadata": {},
     "output_type": "execute_result"
    }
   ],
   "source": [
    "# create a new dataframe to contain the places in the api response\n",
    "places = pd.DataFrame()\n",
    "for place in data['results']:\n",
    "    row = pd.DataFrame({'name':place['name'], \n",
    "                        'latitude':place['geometry']['location']['lat'], \n",
    "                        'longitude':place['geometry']['location']['lng'], \n",
    "                        'rating':place['rating'] if 'rating' in place else None,\n",
    "                        'vicinity':place['vicinity']}, index=[0])\n",
    "    # append each row to the dataframe\n",
    "    places = places.append(row, ignore_index=True)\n",
    "    \n",
    "places.sort('rating', inplace=False, ascending=False).head()"
   ]
  },
  {
   "cell_type": "markdown",
   "metadata": {},
   "source": [
    "## Part 3: Reverse geocoding (address lookup)\n",
    "\n",
    "We'll use Google's reverse geocoding API.\n",
    "- Documentation: https://developers.google.com/maps/documentation/geocoding/intro#ReverseGeocoding\n",
    "- Example request: https://maps.googleapis.com/maps/api/geocode/json?latlng=34.537094,-82.630303\n",
    "\n",
    "You can do this manually, just like in the previous two sections, but it's a little more complicated to parse Google's address components results. If we just want addresses, we can use [geopy](https://geopy.readthedocs.org/en/release-0.96.3/#geopy.geocoders.GoogleV3) to simply call Google's API automatically for us."
   ]
  },
  {
   "cell_type": "code",
   "execution_count": 10,
   "metadata": {
    "collapsed": false
   },
   "outputs": [
    {
     "data": {
      "text/html": [
       "<div>\n",
       "<table border=\"1\" class=\"dataframe\">\n",
       "  <thead>\n",
       "    <tr style=\"text-align: right;\">\n",
       "      <th></th>\n",
       "      <th>latitude</th>\n",
       "      <th>longitude</th>\n",
       "    </tr>\n",
       "  </thead>\n",
       "  <tbody>\n",
       "    <tr>\n",
       "      <th>0</th>\n",
       "      <td>34.537094</td>\n",
       "      <td>-82.630303</td>\n",
       "    </tr>\n",
       "    <tr>\n",
       "      <th>1</th>\n",
       "      <td>35.025700</td>\n",
       "      <td>-78.970500</td>\n",
       "    </tr>\n",
       "    <tr>\n",
       "      <th>2</th>\n",
       "      <td>39.151817</td>\n",
       "      <td>-77.163810</td>\n",
       "    </tr>\n",
       "    <tr>\n",
       "      <th>3</th>\n",
       "      <td>38.636738</td>\n",
       "      <td>-121.319550</td>\n",
       "    </tr>\n",
       "    <tr>\n",
       "      <th>4</th>\n",
       "      <td>47.616955</td>\n",
       "      <td>-122.348921</td>\n",
       "    </tr>\n",
       "  </tbody>\n",
       "</table>\n",
       "</div>"
      ],
      "text/plain": [
       "    latitude   longitude\n",
       "0  34.537094  -82.630303\n",
       "1  35.025700  -78.970500\n",
       "2  39.151817  -77.163810\n",
       "3  38.636738 -121.319550\n",
       "4  47.616955 -122.348921"
      ]
     },
     "execution_count": 10,
     "metadata": {},
     "output_type": "execute_result"
    }
   ],
   "source": [
    "# load usa point data and keep only the first 5 rows\n",
    "usa = pd.read_csv('data/usa-latlong.csv')\n",
    "usa = usa.head()\n",
    "usa"
   ]
  },
  {
   "cell_type": "code",
   "execution_count": 11,
   "metadata": {
    "collapsed": false
   },
   "outputs": [
    {
     "data": {
      "text/html": [
       "<div>\n",
       "<table border=\"1\" class=\"dataframe\">\n",
       "  <thead>\n",
       "    <tr style=\"text-align: right;\">\n",
       "      <th></th>\n",
       "      <th>latitude</th>\n",
       "      <th>longitude</th>\n",
       "      <th>latlng</th>\n",
       "    </tr>\n",
       "  </thead>\n",
       "  <tbody>\n",
       "    <tr>\n",
       "      <th>0</th>\n",
       "      <td>34.537094</td>\n",
       "      <td>-82.630303</td>\n",
       "      <td>34.537094,-82.630303</td>\n",
       "    </tr>\n",
       "    <tr>\n",
       "      <th>1</th>\n",
       "      <td>35.025700</td>\n",
       "      <td>-78.970500</td>\n",
       "      <td>35.0257,-78.9705</td>\n",
       "    </tr>\n",
       "    <tr>\n",
       "      <th>2</th>\n",
       "      <td>39.151817</td>\n",
       "      <td>-77.163810</td>\n",
       "      <td>39.151817,-77.16381</td>\n",
       "    </tr>\n",
       "    <tr>\n",
       "      <th>3</th>\n",
       "      <td>38.636738</td>\n",
       "      <td>-121.319550</td>\n",
       "      <td>38.636738,-121.31955</td>\n",
       "    </tr>\n",
       "    <tr>\n",
       "      <th>4</th>\n",
       "      <td>47.616955</td>\n",
       "      <td>-122.348921</td>\n",
       "      <td>47.616955,-122.348921</td>\n",
       "    </tr>\n",
       "  </tbody>\n",
       "</table>\n",
       "</div>"
      ],
      "text/plain": [
       "    latitude   longitude                 latlng\n",
       "0  34.537094  -82.630303   34.537094,-82.630303\n",
       "1  35.025700  -78.970500       35.0257,-78.9705\n",
       "2  39.151817  -77.163810    39.151817,-77.16381\n",
       "3  38.636738 -121.319550   38.636738,-121.31955\n",
       "4  47.616955 -122.348921  47.616955,-122.348921"
      ]
     },
     "execution_count": 11,
     "metadata": {},
     "output_type": "execute_result"
    }
   ],
   "source": [
    "# create a column to put lat-long into the format google likes - this just makes it easier to call their API\n",
    "usa['latlng'] = usa.apply(lambda row: '{},{}'.format(row['latitude'], row['longitude']), axis=1)\n",
    "usa"
   ]
  },
  {
   "cell_type": "code",
   "execution_count": 12,
   "metadata": {
    "collapsed": false
   },
   "outputs": [
    {
     "data": {
      "text/html": [
       "<div>\n",
       "<table border=\"1\" class=\"dataframe\">\n",
       "  <thead>\n",
       "    <tr style=\"text-align: right;\">\n",
       "      <th></th>\n",
       "      <th>latitude</th>\n",
       "      <th>longitude</th>\n",
       "      <th>latlng</th>\n",
       "      <th>address</th>\n",
       "    </tr>\n",
       "  </thead>\n",
       "  <tbody>\n",
       "    <tr>\n",
       "      <th>0</th>\n",
       "      <td>34.537094</td>\n",
       "      <td>-82.630303</td>\n",
       "      <td>34.537094,-82.630303</td>\n",
       "      <td>3 Simpson Rd, Anderson, SC 29621, USA</td>\n",
       "    </tr>\n",
       "    <tr>\n",
       "      <th>1</th>\n",
       "      <td>35.025700</td>\n",
       "      <td>-78.970500</td>\n",
       "      <td>35.0257,-78.9705</td>\n",
       "      <td>5340 Sumac Cir, Fayetteville, NC 28304, USA</td>\n",
       "    </tr>\n",
       "    <tr>\n",
       "      <th>2</th>\n",
       "      <td>39.151817</td>\n",
       "      <td>-77.163810</td>\n",
       "      <td>39.151817,-77.16381</td>\n",
       "      <td>Spiceberry Cirle, Gaithersburg, MD 20877, USA</td>\n",
       "    </tr>\n",
       "    <tr>\n",
       "      <th>3</th>\n",
       "      <td>38.636738</td>\n",
       "      <td>-121.319550</td>\n",
       "      <td>38.636738,-121.31955</td>\n",
       "      <td>7932 Fair Oaks Blvd, Carmichael, CA 95608, USA</td>\n",
       "    </tr>\n",
       "    <tr>\n",
       "      <th>4</th>\n",
       "      <td>47.616955</td>\n",
       "      <td>-122.348921</td>\n",
       "      <td>47.616955,-122.348921</td>\n",
       "      <td>249-299 Cedar St, Seattle, WA 98121, USA</td>\n",
       "    </tr>\n",
       "  </tbody>\n",
       "</table>\n",
       "</div>"
      ],
      "text/plain": [
       "    latitude   longitude                 latlng  \\\n",
       "0  34.537094  -82.630303   34.537094,-82.630303   \n",
       "1  35.025700  -78.970500       35.0257,-78.9705   \n",
       "2  39.151817  -77.163810    39.151817,-77.16381   \n",
       "3  38.636738 -121.319550   38.636738,-121.31955   \n",
       "4  47.616955 -122.348921  47.616955,-122.348921   \n",
       "\n",
       "                                          address  \n",
       "0           3 Simpson Rd, Anderson, SC 29621, USA  \n",
       "1     5340 Sumac Cir, Fayetteville, NC 28304, USA  \n",
       "2   Spiceberry Cirle, Gaithersburg, MD 20877, USA  \n",
       "3  7932 Fair Oaks Blvd, Carmichael, CA 95608, USA  \n",
       "4        249-299 Cedar St, Seattle, WA 98121, USA  "
      ]
     },
     "execution_count": 12,
     "metadata": {},
     "output_type": "execute_result"
    }
   ],
   "source": [
    "# tell geopy to reverse geocode some lat-long string using Google's API and return the address\n",
    "def reverse_geopy(latlng):\n",
    "    geolocator = GoogleV3()\n",
    "    address, _ = geolocator.reverse(latlng, exactly_one=True)\n",
    "    return address\n",
    "\n",
    "usa['address'] = usa['latlng'].map(reverse_geopy)\n",
    "usa"
   ]
  },
  {
   "cell_type": "markdown",
   "metadata": {},
   "source": [
    "#### What if you just want the city or state?\n",
    "You could try to parse the address strings, but you're relying on them always having a consistent format. This might not be the case if you have international location data. In this case, you should call the API manually and extract the individual address components you are interested in."
   ]
  },
  {
   "cell_type": "code",
   "execution_count": 13,
   "metadata": {
    "collapsed": false
   },
   "outputs": [],
   "source": [
    "# pass the Google API latlng data to reverse geocode it\n",
    "def reverse_geocode(latlng):\n",
    "    time.sleep(pause)\n",
    "    url = 'https://maps.googleapis.com/maps/api/geocode/json?latlng={}&key={}'\n",
    "    request = url.format(latlng, api_key)\n",
    "    response = requests.get(request)\n",
    "    data = json.loads(response.text)\n",
    "    if len(data['results']) > 0:\n",
    "        return data['results'][0] #if we got results, return the first result\n",
    "    \n",
    "geocode_results = usa['latlng'].map(reverse_geocode)"
   ]
  },
  {
   "cell_type": "markdown",
   "metadata": {},
   "source": [
    "Now look inside each reverse geocode result to see if address_components exists. If it does, look inside each component to see if we can find the city or the state. Google calls the city name by the abstract term 'locality' and the state name by the abstract term 'administrative_area_level_1' ...this just lets them use the same terminology anywhere in the world."
   ]
  },
  {
   "cell_type": "code",
   "execution_count": 14,
   "metadata": {
    "collapsed": false
   },
   "outputs": [],
   "source": [
    "def get_city(geocode_results):\n",
    "     if 'address_components' in geocode_results:\n",
    "        for address_component in geocode_results['address_components']:\n",
    "            if 'locality' in address_component['types']:\n",
    "                return address_component['long_name']\n",
    "                \n",
    "def get_state(geocode_results):\n",
    "     if 'address_components' in geocode_results:\n",
    "        for address_component in geocode_results['address_components']:\n",
    "            if 'administrative_area_level_1' in address_component['types']:\n",
    "                return address_component['long_name']"
   ]
  },
  {
   "cell_type": "code",
   "execution_count": 15,
   "metadata": {
    "collapsed": false
   },
   "outputs": [
    {
     "data": {
      "text/html": [
       "<div>\n",
       "<table border=\"1\" class=\"dataframe\">\n",
       "  <thead>\n",
       "    <tr style=\"text-align: right;\">\n",
       "      <th></th>\n",
       "      <th>latitude</th>\n",
       "      <th>longitude</th>\n",
       "      <th>latlng</th>\n",
       "      <th>address</th>\n",
       "      <th>city</th>\n",
       "      <th>state</th>\n",
       "    </tr>\n",
       "  </thead>\n",
       "  <tbody>\n",
       "    <tr>\n",
       "      <th>0</th>\n",
       "      <td>34.537094</td>\n",
       "      <td>-82.630303</td>\n",
       "      <td>34.537094,-82.630303</td>\n",
       "      <td>3 Simpson Rd, Anderson, SC 29621, USA</td>\n",
       "      <td>Anderson</td>\n",
       "      <td>South Carolina</td>\n",
       "    </tr>\n",
       "    <tr>\n",
       "      <th>1</th>\n",
       "      <td>35.025700</td>\n",
       "      <td>-78.970500</td>\n",
       "      <td>35.0257,-78.9705</td>\n",
       "      <td>5340 Sumac Cir, Fayetteville, NC 28304, USA</td>\n",
       "      <td>Fayetteville</td>\n",
       "      <td>North Carolina</td>\n",
       "    </tr>\n",
       "    <tr>\n",
       "      <th>2</th>\n",
       "      <td>39.151817</td>\n",
       "      <td>-77.163810</td>\n",
       "      <td>39.151817,-77.16381</td>\n",
       "      <td>Spiceberry Cirle, Gaithersburg, MD 20877, USA</td>\n",
       "      <td>Gaithersburg</td>\n",
       "      <td>Maryland</td>\n",
       "    </tr>\n",
       "    <tr>\n",
       "      <th>3</th>\n",
       "      <td>38.636738</td>\n",
       "      <td>-121.319550</td>\n",
       "      <td>38.636738,-121.31955</td>\n",
       "      <td>7932 Fair Oaks Blvd, Carmichael, CA 95608, USA</td>\n",
       "      <td>Carmichael</td>\n",
       "      <td>California</td>\n",
       "    </tr>\n",
       "    <tr>\n",
       "      <th>4</th>\n",
       "      <td>47.616955</td>\n",
       "      <td>-122.348921</td>\n",
       "      <td>47.616955,-122.348921</td>\n",
       "      <td>249-299 Cedar St, Seattle, WA 98121, USA</td>\n",
       "      <td>Seattle</td>\n",
       "      <td>Washington</td>\n",
       "    </tr>\n",
       "  </tbody>\n",
       "</table>\n",
       "</div>"
      ],
      "text/plain": [
       "    latitude   longitude                 latlng  \\\n",
       "0  34.537094  -82.630303   34.537094,-82.630303   \n",
       "1  35.025700  -78.970500       35.0257,-78.9705   \n",
       "2  39.151817  -77.163810    39.151817,-77.16381   \n",
       "3  38.636738 -121.319550   38.636738,-121.31955   \n",
       "4  47.616955 -122.348921  47.616955,-122.348921   \n",
       "\n",
       "                                          address          city  \\\n",
       "0           3 Simpson Rd, Anderson, SC 29621, USA      Anderson   \n",
       "1     5340 Sumac Cir, Fayetteville, NC 28304, USA  Fayetteville   \n",
       "2   Spiceberry Cirle, Gaithersburg, MD 20877, USA  Gaithersburg   \n",
       "3  7932 Fair Oaks Blvd, Carmichael, CA 95608, USA    Carmichael   \n",
       "4        249-299 Cedar St, Seattle, WA 98121, USA       Seattle   \n",
       "\n",
       "            state  \n",
       "0  South Carolina  \n",
       "1  North Carolina  \n",
       "2        Maryland  \n",
       "3      California  \n",
       "4      Washington  "
      ]
     },
     "execution_count": 15,
     "metadata": {},
     "output_type": "execute_result"
    }
   ],
   "source": [
    "# now map our functions to extract city and state names\n",
    "usa['city'] = geocode_results.map(get_city)                \n",
    "usa['state'] = geocode_results.map(get_state)\n",
    "usa"
   ]
  },
  {
   "cell_type": "markdown",
   "metadata": {},
   "source": [
    "## Part 4: Reverse geocoding to FIPS\n",
    "\n",
    "We'll use the FCC's Census Block Conversions API to turn lat/long into a block FIPS code. FIPS codes contain from left to right: the location's 2-digit state code, 3-digit county code, 6-digit census tract code, and 4-digit census block code (the first digit of which is the census block group code). Now you can join your data to tract (etc) level census data without doing a spatial join.\n",
    "\n",
    "- Documentation: https://www.fcc.gov/developers/census-block-conversions-api\n",
    "- Example request: http://data.fcc.gov/api/block/find?format=json&latitude=37.861055&longitude=-122.256463"
   ]
  },
  {
   "cell_type": "code",
   "execution_count": 16,
   "metadata": {
    "collapsed": true
   },
   "outputs": [],
   "source": [
    "# pass the FCC API lat/long and get FIPS data back - return block fips and county name\n",
    "def get_fips(row):\n",
    "    time.sleep(pause)\n",
    "    url = 'http://data.fcc.gov/api/block/find?format=json&latitude={}&longitude={}'\n",
    "    request = url.format(row['latitude'], row['longitude'])\n",
    "    response = requests.get(request)\n",
    "    data = json.loads(response.text)\n",
    "    \n",
    "    # return multiple values as a series - this will create a dataframe with multiple columns\n",
    "    return pd.Series({'fips_code':data['Block']['FIPS'], 'county':data['County']['name']})"
   ]
  },
  {
   "cell_type": "code",
   "execution_count": 17,
   "metadata": {
    "collapsed": false
   },
   "outputs": [
    {
     "data": {
      "text/html": [
       "<div>\n",
       "<table border=\"1\" class=\"dataframe\">\n",
       "  <thead>\n",
       "    <tr style=\"text-align: right;\">\n",
       "      <th></th>\n",
       "      <th>latitude</th>\n",
       "      <th>longitude</th>\n",
       "      <th>latlng</th>\n",
       "      <th>address</th>\n",
       "      <th>city</th>\n",
       "      <th>state</th>\n",
       "      <th>county</th>\n",
       "      <th>fips_code</th>\n",
       "    </tr>\n",
       "  </thead>\n",
       "  <tbody>\n",
       "    <tr>\n",
       "      <th>0</th>\n",
       "      <td>34.537094</td>\n",
       "      <td>-82.630303</td>\n",
       "      <td>34.537094,-82.630303</td>\n",
       "      <td>3 Simpson Rd, Anderson, SC 29621, USA</td>\n",
       "      <td>Anderson</td>\n",
       "      <td>South Carolina</td>\n",
       "      <td>Anderson</td>\n",
       "      <td>450070112021073</td>\n",
       "    </tr>\n",
       "    <tr>\n",
       "      <th>1</th>\n",
       "      <td>35.025700</td>\n",
       "      <td>-78.970500</td>\n",
       "      <td>35.0257,-78.9705</td>\n",
       "      <td>5340 Sumac Cir, Fayetteville, NC 28304, USA</td>\n",
       "      <td>Fayetteville</td>\n",
       "      <td>North Carolina</td>\n",
       "      <td>Cumberland</td>\n",
       "      <td>370510019034012</td>\n",
       "    </tr>\n",
       "    <tr>\n",
       "      <th>2</th>\n",
       "      <td>39.151817</td>\n",
       "      <td>-77.163810</td>\n",
       "      <td>39.151817,-77.16381</td>\n",
       "      <td>Spiceberry Cirle, Gaithersburg, MD 20877, USA</td>\n",
       "      <td>Gaithersburg</td>\n",
       "      <td>Maryland</td>\n",
       "      <td>Montgomery</td>\n",
       "      <td>240317007104010</td>\n",
       "    </tr>\n",
       "    <tr>\n",
       "      <th>3</th>\n",
       "      <td>38.636738</td>\n",
       "      <td>-121.319550</td>\n",
       "      <td>38.636738,-121.31955</td>\n",
       "      <td>7932 Fair Oaks Blvd, Carmichael, CA 95608, USA</td>\n",
       "      <td>Carmichael</td>\n",
       "      <td>California</td>\n",
       "      <td>Sacramento</td>\n",
       "      <td>060670078012000</td>\n",
       "    </tr>\n",
       "    <tr>\n",
       "      <th>4</th>\n",
       "      <td>47.616955</td>\n",
       "      <td>-122.348921</td>\n",
       "      <td>47.616955,-122.348921</td>\n",
       "      <td>249-299 Cedar St, Seattle, WA 98121, USA</td>\n",
       "      <td>Seattle</td>\n",
       "      <td>Washington</td>\n",
       "      <td>King</td>\n",
       "      <td>530330080011008</td>\n",
       "    </tr>\n",
       "  </tbody>\n",
       "</table>\n",
       "</div>"
      ],
      "text/plain": [
       "    latitude   longitude                 latlng  \\\n",
       "0  34.537094  -82.630303   34.537094,-82.630303   \n",
       "1  35.025700  -78.970500       35.0257,-78.9705   \n",
       "2  39.151817  -77.163810    39.151817,-77.16381   \n",
       "3  38.636738 -121.319550   38.636738,-121.31955   \n",
       "4  47.616955 -122.348921  47.616955,-122.348921   \n",
       "\n",
       "                                          address          city  \\\n",
       "0           3 Simpson Rd, Anderson, SC 29621, USA      Anderson   \n",
       "1     5340 Sumac Cir, Fayetteville, NC 28304, USA  Fayetteville   \n",
       "2   Spiceberry Cirle, Gaithersburg, MD 20877, USA  Gaithersburg   \n",
       "3  7932 Fair Oaks Blvd, Carmichael, CA 95608, USA    Carmichael   \n",
       "4        249-299 Cedar St, Seattle, WA 98121, USA       Seattle   \n",
       "\n",
       "            state      county        fips_code  \n",
       "0  South Carolina    Anderson  450070112021073  \n",
       "1  North Carolina  Cumberland  370510019034012  \n",
       "2        Maryland  Montgomery  240317007104010  \n",
       "3      California  Sacramento  060670078012000  \n",
       "4      Washington        King  530330080011008  "
      ]
     },
     "execution_count": 17,
     "metadata": {},
     "output_type": "execute_result"
    }
   ],
   "source": [
    "# get block fips code and county name from FCC as new dataframe, then concatenate to join them\n",
    "fips = usa.apply(get_fips, axis=1)\n",
    "usa = pd.concat([usa, fips], axis=1)\n",
    "usa"
   ]
  }
 ],
 "metadata": {
  "kernelspec": {
   "display_name": "Python 2",
   "language": "python",
   "name": "python2"
  },
  "language_info": {
   "codemirror_mode": {
    "name": "ipython",
    "version": 2
   },
   "file_extension": ".py",
   "mimetype": "text/x-python",
   "name": "python",
   "nbconvert_exporter": "python",
   "pygments_lexer": "ipython2",
   "version": "2.7.10"
  }
 },
 "nbformat": 4,
 "nbformat_minor": 0
}
