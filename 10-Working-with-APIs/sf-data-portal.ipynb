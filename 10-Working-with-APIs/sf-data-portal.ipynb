{
 "cells": [
  {
   "cell_type": "markdown",
   "metadata": {},
   "source": [
    "# SF Open Data Portal\n",
    "\n",
    "Browse the portal for public datasets: https://data.sfgov.org/\n",
    "\n",
    "Use Python to retrieve data from the API, just like we learned last week: https://data.sfgov.org/developers\n",
    "\n",
    "Look at data on bike parking in SF: https://data.sfgov.org/Transportation/Bicycle-Parking-Public-/w969-5mn4"
   ]
  },
  {
   "cell_type": "code",
   "execution_count": 1,
   "metadata": {
    "collapsed": true
   },
   "outputs": [],
   "source": [
    "import pandas as pd\n",
    "import urllib\n",
    "import json"
   ]
  },
  {
   "cell_type": "code",
   "execution_count": 2,
   "metadata": {
    "collapsed": false
   },
   "outputs": [],
   "source": [
    "# use endpoint for bike parking in SF\n",
    "endpoint_url = 'https://data.sfgov.org/resource/w969-5mn4.json'\n",
    "\n",
    "# open a connection to the URL\n",
    "connection = urllib.urlopen(endpoint_url)\n",
    "\n",
    "# download the results\n",
    "results = connection.read()\n",
    "\n",
    "# parse the string into a Python data structure\n",
    "data = json.loads(results)"
   ]
  },
  {
   "cell_type": "code",
   "execution_count": 3,
   "metadata": {
    "collapsed": false
   },
   "outputs": [
    {
     "data": {
      "text/plain": [
       "{u'addr_num': u'Bay Area Air Quality Management District (BAAQMD)',\n",
       " u'latitude': {u'human_address': u'{\"address\":\"ELLIS\",\"city\":\"\",\"state\":\"\",\"zip\":\"\"}',\n",
       "  u'latitude': u'37.78346622',\n",
       "  u'longitude': u'-122.42177834',\n",
       "  u'needs_recoding': False},\n",
       " u'mo_installed': u'8',\n",
       " u'placement': u'SW',\n",
       " u'racks': u'2',\n",
       " u'spaces': u'4',\n",
       " u'street_name': u'ELLIS',\n",
       " u'yr_inst': u'939 ELLIS ST',\n",
       " u'yr_installed': u'1997'}"
      ]
     },
     "execution_count": 3,
     "metadata": {},
     "output_type": "execute_result"
    }
   ],
   "source": [
    "data[0]"
   ]
  },
  {
   "cell_type": "code",
   "execution_count": 4,
   "metadata": {
    "collapsed": false
   },
   "outputs": [
    {
     "data": {
      "text/html": [
       "<div>\n",
       "<table border=\"1\" class=\"dataframe\">\n",
       "  <thead>\n",
       "    <tr style=\"text-align: right;\">\n",
       "      <th></th>\n",
       "      <th>addr_num</th>\n",
       "      <th>latitude</th>\n",
       "      <th>mo_installed</th>\n",
       "      <th>placement</th>\n",
       "      <th>racks</th>\n",
       "      <th>spaces</th>\n",
       "      <th>street_name</th>\n",
       "      <th>yr_inst</th>\n",
       "      <th>yr_installed</th>\n",
       "    </tr>\n",
       "  </thead>\n",
       "  <tbody>\n",
       "    <tr>\n",
       "      <th>0</th>\n",
       "      <td>Bay Area Air Quality Management District (BAAQMD)</td>\n",
       "      <td>{u'latitude': u'37.78346622', u'needs_recoding...</td>\n",
       "      <td>8</td>\n",
       "      <td>SW</td>\n",
       "      <td>2</td>\n",
       "      <td>4</td>\n",
       "      <td>ELLIS</td>\n",
       "      <td>939 ELLIS ST</td>\n",
       "      <td>1997</td>\n",
       "    </tr>\n",
       "    <tr>\n",
       "      <th>1</th>\n",
       "      <td>San Francisco Department of Public Health</td>\n",
       "      <td>{u'latitude': u'37.774458', u'needs_recoding':...</td>\n",
       "      <td>UK</td>\n",
       "      <td>SW</td>\n",
       "      <td>1</td>\n",
       "      <td>2</td>\n",
       "      <td>HOWARD</td>\n",
       "      <td>1380 HOWARD ST</td>\n",
       "      <td>1998</td>\n",
       "    </tr>\n",
       "    <tr>\n",
       "      <th>2</th>\n",
       "      <td>Oakside Cafe</td>\n",
       "      <td>{u'latitude': u'37.772737', u'needs_recoding':...</td>\n",
       "      <td>UK</td>\n",
       "      <td>SW</td>\n",
       "      <td>1</td>\n",
       "      <td>2</td>\n",
       "      <td>OAK</td>\n",
       "      <td>1195 OAK ST</td>\n",
       "      <td>2000</td>\n",
       "    </tr>\n",
       "    <tr>\n",
       "      <th>3</th>\n",
       "      <td>Synergy School</td>\n",
       "      <td>{u'latitude': u'37.75087429', u'needs_recoding...</td>\n",
       "      <td>UK</td>\n",
       "      <td>SW</td>\n",
       "      <td>1</td>\n",
       "      <td>2</td>\n",
       "      <td>VALENCIA</td>\n",
       "      <td>1387 VALENCIA ST</td>\n",
       "      <td>2000</td>\n",
       "    </tr>\n",
       "    <tr>\n",
       "      <th>4</th>\n",
       "      <td>Say Media</td>\n",
       "      <td>{u'latitude': u'37.779369', u'needs_recoding':...</td>\n",
       "      <td>UK</td>\n",
       "      <td>SW</td>\n",
       "      <td>1</td>\n",
       "      <td>2</td>\n",
       "      <td>TOWNSEND</td>\n",
       "      <td>180 TOWNSEND ST</td>\n",
       "      <td>2000</td>\n",
       "    </tr>\n",
       "  </tbody>\n",
       "</table>\n",
       "</div>"
      ],
      "text/plain": [
       "                                            addr_num  \\\n",
       "0  Bay Area Air Quality Management District (BAAQMD)   \n",
       "1          San Francisco Department of Public Health   \n",
       "2                                       Oakside Cafe   \n",
       "3                                     Synergy School   \n",
       "4                                         Say Media    \n",
       "\n",
       "                                            latitude mo_installed placement  \\\n",
       "0  {u'latitude': u'37.78346622', u'needs_recoding...            8        SW   \n",
       "1  {u'latitude': u'37.774458', u'needs_recoding':...           UK        SW   \n",
       "2  {u'latitude': u'37.772737', u'needs_recoding':...           UK        SW   \n",
       "3  {u'latitude': u'37.75087429', u'needs_recoding...           UK        SW   \n",
       "4  {u'latitude': u'37.779369', u'needs_recoding':...           UK        SW   \n",
       "\n",
       "  racks spaces street_name           yr_inst yr_installed  \n",
       "0     2      4       ELLIS      939 ELLIS ST         1997  \n",
       "1     1      2      HOWARD    1380 HOWARD ST         1998  \n",
       "2     1      2         OAK       1195 OAK ST         2000  \n",
       "3     1      2    VALENCIA  1387 VALENCIA ST         2000  \n",
       "4     1      2    TOWNSEND   180 TOWNSEND ST         2000  "
      ]
     },
     "execution_count": 4,
     "metadata": {},
     "output_type": "execute_result"
    }
   ],
   "source": [
    "# turn the json data into a dataframe\n",
    "df = pd.DataFrame(data)\n",
    "df.head()"
   ]
  },
  {
   "cell_type": "code",
   "execution_count": 5,
   "metadata": {
    "collapsed": false
   },
   "outputs": [
    {
     "data": {
      "text/plain": [
       "{u'human_address': u'{\"address\":\"ELLIS\",\"city\":\"\",\"state\":\"\",\"zip\":\"\"}',\n",
       " u'latitude': u'37.78346622',\n",
       " u'longitude': u'-122.42177834',\n",
       " u'needs_recoding': False}"
      ]
     },
     "execution_count": 5,
     "metadata": {},
     "output_type": "execute_result"
    }
   ],
   "source": [
    "# this column contains dicts that contain lats and lons\n",
    "df['latitude'][0]"
   ]
  },
  {
   "cell_type": "code",
   "execution_count": 6,
   "metadata": {
    "collapsed": false
   },
   "outputs": [],
   "source": [
    "# create lists to hold all my lat-lons as i extract them\n",
    "latitudes = []\n",
    "longitudes = []\n",
    "\n",
    "# loop through each row in df, extracting lat and lon values\n",
    "for label, row in df.iterrows():\n",
    "    latitudes.append(row['latitude']['latitude'])\n",
    "    longitudes.append(row['latitude']['longitude'])"
   ]
  },
  {
   "cell_type": "code",
   "execution_count": 7,
   "metadata": {
    "collapsed": false
   },
   "outputs": [],
   "source": [
    "df['lat'] = latitudes\n",
    "df['lon'] = longitudes"
   ]
  },
  {
   "cell_type": "code",
   "execution_count": 8,
   "metadata": {
    "collapsed": false
   },
   "outputs": [
    {
     "data": {
      "text/html": [
       "<div>\n",
       "<table border=\"1\" class=\"dataframe\">\n",
       "  <thead>\n",
       "    <tr style=\"text-align: right;\">\n",
       "      <th></th>\n",
       "      <th>lat</th>\n",
       "      <th>lon</th>\n",
       "    </tr>\n",
       "  </thead>\n",
       "  <tbody>\n",
       "    <tr>\n",
       "      <th>0</th>\n",
       "      <td>37.78346622</td>\n",
       "      <td>-122.42177834</td>\n",
       "    </tr>\n",
       "    <tr>\n",
       "      <th>1</th>\n",
       "      <td>37.774458</td>\n",
       "      <td>-122.414411</td>\n",
       "    </tr>\n",
       "    <tr>\n",
       "      <th>2</th>\n",
       "      <td>37.772737</td>\n",
       "      <td>-122.438887</td>\n",
       "    </tr>\n",
       "    <tr>\n",
       "      <th>3</th>\n",
       "      <td>37.75087429</td>\n",
       "      <td>-122.42019976</td>\n",
       "    </tr>\n",
       "    <tr>\n",
       "      <th>4</th>\n",
       "      <td>37.779369</td>\n",
       "      <td>-122.392606</td>\n",
       "    </tr>\n",
       "  </tbody>\n",
       "</table>\n",
       "</div>"
      ],
      "text/plain": [
       "           lat            lon\n",
       "0  37.78346622  -122.42177834\n",
       "1    37.774458    -122.414411\n",
       "2    37.772737    -122.438887\n",
       "3  37.75087429  -122.42019976\n",
       "4    37.779369    -122.392606"
      ]
     },
     "execution_count": 8,
     "metadata": {},
     "output_type": "execute_result"
    }
   ],
   "source": [
    "df2 = df[['lat', 'lon']]\n",
    "df2.head()"
   ]
  },
  {
   "cell_type": "code",
   "execution_count": null,
   "metadata": {
    "collapsed": true
   },
   "outputs": [],
   "source": []
  }
 ],
 "metadata": {
  "kernelspec": {
   "display_name": "Python 2",
   "language": "python",
   "name": "python2"
  },
  "language_info": {
   "codemirror_mode": {
    "name": "ipython",
    "version": 2
   },
   "file_extension": ".py",
   "mimetype": "text/x-python",
   "name": "python",
   "nbconvert_exporter": "python",
   "pygments_lexer": "ipython2",
   "version": "2.7.10"
  }
 },
 "nbformat": 4,
 "nbformat_minor": 0
}
