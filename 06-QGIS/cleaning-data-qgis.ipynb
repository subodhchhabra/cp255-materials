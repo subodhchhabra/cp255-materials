{
 "cells": [
  {
   "cell_type": "markdown",
   "metadata": {},
   "source": [
    "# Cleaning Data and Viewing it in QGIS"
   ]
  },
  {
   "cell_type": "markdown",
   "metadata": {},
   "source": [
    "## Review some steps for reading and cleaning data from a csv file"
   ]
  },
  {
   "cell_type": "code",
   "execution_count": 1,
   "metadata": {
    "collapsed": true
   },
   "outputs": [],
   "source": [
    "# import python's csv module to open a csv file\n",
    "import csv"
   ]
  },
  {
   "cell_type": "code",
   "execution_count": 2,
   "metadata": {
    "collapsed": true
   },
   "outputs": [],
   "source": [
    "# encapsulate the convert to integer functionality inside a new function\n",
    "def extract_int_val(value):\n",
    "    if not value == '':\n",
    "        return int(float(value)) \n",
    "    else:\n",
    "        return None"
   ]
  },
  {
   "cell_type": "code",
   "execution_count": 3,
   "metadata": {
    "collapsed": true
   },
   "outputs": [],
   "source": [
    "# create a new function to replace forward slashes and commas with hyphens\n",
    "def clean_neighborhood(neighborhood_name):\n",
    "    # you can daisy chain multiple string.replace() methods\n",
    "    return neighborhood_name.replace('/', '-').replace(',', '')"
   ]
  },
  {
   "cell_type": "code",
   "execution_count": 4,
   "metadata": {
    "collapsed": false
   },
   "outputs": [
    {
     "data": {
      "text/plain": [
       "[['foster city', 2495, 1],\n",
       " ['palo alto', 2695, None],\n",
       " ['brisbane', 3150, 2],\n",
       " ['palo alto', 2800, 2],\n",
       " ['san mateo', 2196, 1],\n",
       " ['santa clara', 3264, 3],\n",
       " ['san jose south', 2000, 2],\n",
       " ['sunnyvale', 4740, 3],\n",
       " ['inner sunset - UCSF', 3395, 2],\n",
       " ['richmond - seacliff', 2699, 1],\n",
       " ['SOMA - south beach', 3620, 1],\n",
       " ['dublin - pleasanton - livermore', 2025, 1],\n",
       " ['concord - pleasant hill - martinez', None, 2],\n",
       " ['hercules pinole san pablo el sob', 1795, 1],\n",
       " ['corte madera', 4299, 3]]"
      ]
     },
     "execution_count": 4,
     "metadata": {},
     "output_type": "execute_result"
    }
   ],
   "source": [
    "# clean the data set by calling the cleaning functions and save the results to variables\n",
    "rentals_cleaned = []\n",
    "with open('Data/rents_raw.csv', 'rb') as csvfile:\n",
    "    my_csv = csv.reader(csvfile)\n",
    "    next(my_csv)\n",
    "    for row in my_csv:\n",
    "        neighborhood = clean_neighborhood(row[0])\n",
    "        price = extract_int_val(row[1])\n",
    "        bedrooms = extract_int_val(row[2])\n",
    "        rentals_cleaned.append([neighborhood, price, bedrooms])      \n",
    "\n",
    "# display our nested lists of data        \n",
    "rentals_cleaned"
   ]
  },
  {
   "cell_type": "markdown",
   "metadata": {},
   "source": [
    "## What are the mean, min and max rent amounts?"
   ]
  },
  {
   "cell_type": "code",
   "execution_count": 5,
   "metadata": {
    "collapsed": false
   },
   "outputs": [
    {
     "name": "stdout",
     "output_type": "stream",
     "text": [
      "Mean Rent is 2940.9\n",
      "Min Rent is 1795\n",
      "Max Rent is 4740\n"
     ]
    }
   ],
   "source": [
    "count = 0 #initialize a counter\n",
    "cumulative_rent = 0 # initialize cumulative_rent\n",
    "max_val = 0 # set initial max at low value\n",
    "min_val = 100000 # set initial min at high value\n",
    "\n",
    "for listing in rentals_cleaned: # iterate over the rows \n",
    "    price_cleaned = listing[1] # create temp variable with a readable name since we did not store names\n",
    "    if not (price_cleaned == None):\n",
    "        count += 1\n",
    "        cumulative_rent = cumulative_rent + price_cleaned\n",
    "        if price_cleaned > max_val:\n",
    "            max_val = price_cleaned\n",
    "        \n",
    "        if price_cleaned < min_val:\n",
    "            min_val = price_cleaned\n",
    "\n",
    "mean_rent = round(float(cumulative_rent) / count, 1)\n",
    "            \n",
    "print 'Mean Rent is', mean_rent\n",
    "print 'Min Rent is', min_val\n",
    "print 'Max Rent is', max_val"
   ]
  },
  {
   "cell_type": "markdown",
   "metadata": {},
   "source": [
    "## Now let's try looking at a big data file: one day of Craigslist rental listings for the entire U.S."
   ]
  },
  {
   "cell_type": "markdown",
   "metadata": {},
   "source": [
    "We will use a different function of the csv library for reading the file: DictReader"
   ]
  },
  {
   "cell_type": "code",
   "execution_count": 6,
   "metadata": {
    "collapsed": false
   },
   "outputs": [
    {
     "name": "stdout",
     "output_type": "stream",
     "text": [
      "['neighborhood', 'price', 'bedrooms', 'longitude', 'date', 'latitude', 'sqft']\n"
     ]
    }
   ],
   "source": [
    "with open('Data/listings_one_day.csv', 'rU') as csvfile:\n",
    "    my_csv = csv.DictReader(csvfile)\n",
    "    print my_csv.fieldnames"
   ]
  },
  {
   "cell_type": "code",
   "execution_count": 7,
   "metadata": {
    "collapsed": false
   },
   "outputs": [
    {
     "name": "stdout",
     "output_type": "stream",
     "text": [
      "There are 126830 total listings in this file\n",
      "14883  rows are missing neighborhood\n",
      "25824 rows are missing price\n",
      "118290 rows are missing latitude\n"
     ]
    }
   ],
   "source": [
    "rentals_one_day = []\n",
    "with open('Data/listings_one_day.csv', 'rU') as csvfile:\n",
    "    my_csv = csv.DictReader(csvfile)\n",
    "    missing_neighborhood = 0\n",
    "    missing_price = 0\n",
    "    missing_latitude = 0\n",
    "    for row in my_csv:\n",
    "        neighborhood = clean_neighborhood(row['neighborhood'])\n",
    "        price = extract_int_val(row['price'])\n",
    "        bedrooms = extract_int_val(row['bedrooms'])\n",
    "        latitude = row['latitude']\n",
    "        longitude = row['longitude']\n",
    "        if neighborhood == '':\n",
    "            missing_neighborhood += 1\n",
    "        if not (price > 0):\n",
    "            missing_price += 1\n",
    "        if latitude == '':\n",
    "            missing_latitude += 1\n",
    "        if (50 < price < 12000) and neighborhood != '' and latitude != '':\n",
    "            rentals_one_day.append([neighborhood, price, bedrooms, latitude, longitude])      \n",
    "\n",
    "print 'There are', len(rentals_one_day), 'total listings in this file'\n",
    "print missing_neighborhood, ' rows are missing neighborhood'\n",
    "print missing_price, 'rows are missing price'\n",
    "print missing_latitude, 'rows are missing latitude'"
   ]
  },
  {
   "cell_type": "code",
   "execution_count": 8,
   "metadata": {
    "collapsed": false
   },
   "outputs": [
    {
     "name": "stdout",
     "output_type": "stream",
     "text": [
      "Count is 126830\n",
      "Mean Rent is 1392.6\n",
      "Min Rent is 51\n",
      "Max Rent is 11950\n"
     ]
    }
   ],
   "source": [
    "count = 0 #initialize a counter\n",
    "cumulative_rent = 0 # initialize cumulative_sum\n",
    "max_val = 0 # set initial max at low value\n",
    "min_val = 100000 # set initial min at high value\n",
    "\n",
    "for listing in rentals_one_day: # iterate over the rows \n",
    "    price_cleaned = listing[1] # create temp variable with a readable name since we did not store names\n",
    "    if not (price_cleaned == 0):\n",
    "        count += 1\n",
    "        cumulative_rent = cumulative_rent + price_cleaned\n",
    "        if price_cleaned > max_val:\n",
    "            max_val = price_cleaned\n",
    "        \n",
    "        if price_cleaned < min_val:\n",
    "            min_val = price_cleaned\n",
    "\n",
    "mean_rent = round(float(cumulative_rent) / count, 1)\n",
    "\n",
    "print 'Count is', count\n",
    "            \n",
    "print 'Mean Rent is', mean_rent\n",
    "print 'Min Rent is', min_val\n",
    "print 'Max Rent is', max_val"
   ]
  },
  {
   "cell_type": "markdown",
   "metadata": {},
   "source": [
    "## Now write the data to a csv file that we can load into QGIS to visualize"
   ]
  },
  {
   "cell_type": "code",
   "execution_count": 9,
   "metadata": {
    "collapsed": true
   },
   "outputs": [],
   "source": [
    "with open('Data/listings_one_day_cleaned.csv', 'wb') as csvfile:\n",
    "    clean_csv = csv.writer(csvfile)\n",
    "    clean_csv.writerow(['neighborhood','price','bedrooms','latitude','longitude'])\n",
    "    clean_csv.writerows(rentals_one_day)"
   ]
  },
  {
   "cell_type": "code",
   "execution_count": null,
   "metadata": {
    "collapsed": true
   },
   "outputs": [],
   "source": []
  }
 ],
 "metadata": {
  "kernelspec": {
   "display_name": "Python 2",
   "language": "python",
   "name": "python2"
  },
  "language_info": {
   "codemirror_mode": {
    "name": "ipython",
    "version": 2
   },
   "file_extension": ".py",
   "mimetype": "text/x-python",
   "name": "python",
   "nbconvert_exporter": "python",
   "pygments_lexer": "ipython2",
   "version": "2.7.10"
  }
 },
 "nbformat": 4,
 "nbformat_minor": 0
}
